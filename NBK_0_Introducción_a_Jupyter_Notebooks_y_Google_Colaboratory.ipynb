{
  "nbformat": 4,
  "nbformat_minor": 0,
  "metadata": {
    "colab": {
      "provenance": [],
      "include_colab_link": true
    },
    "kernelspec": {
      "name": "python3",
      "display_name": "Python 3"
    },
    "language_info": {
      "name": "python"
    }
  },
  "cells": [
    {
      "cell_type": "markdown",
      "metadata": {
        "id": "view-in-github",
        "colab_type": "text"
      },
      "source": [
        "<a href=\"https://colab.research.google.com/github/RonnalOrtiz/First_steps/blob/main/NBK_0_Introducci%C3%B3n_a_Jupyter_Notebooks_y_Google_Colaboratory.ipynb\" target=\"_parent\"><img src=\"https://colab.research.google.com/assets/colab-badge.svg\" alt=\"Open In Colab\"/></a>"
      ]
    },
    {
      "cell_type": "markdown",
      "source": [
        "<img src = \"https://drive.google.com/uc?export=view&id=15yVbCPuw750DD_lPcsXovbFUuG8mrN0V\" alt = \"Si no puede ver este encabezado le recomendamos que utilice un navegador distinto. Los navegadores probados son Google Chrome, Opera y Microsoft Edge.\" width = \"80%\">  </img>"
      ],
      "metadata": {
        "id": "Pu8oucXqQ4HF"
      }
    },
    {
      "cell_type": "markdown",
      "metadata": {
        "id": "FZBr4_ny6UCr"
      },
      "source": [
        "# **Introducción a *Jupyter Notebooks* y _Google Colaboratory_**\n",
        "---\n",
        "\n",
        "\n",
        "<center><img src = \"https://jupyter.org/assets/homepage/main-logo.svg\" alt = \"Logo Jupyter\" width = \"35%\">  </img></center>\n",
        "\n",
        "Los *notebooks* de [Jupyter](https://jupyter.org/) son documentos con un entorno computacional interactivo integrado, que permiten organizar y ejecutar código fuente de lenguajes de programación como *Python* o *R*. En otras palabras, podemos pensar en un *notebook* como una \"página web enriquecida\" donde vamos a poder tomar apuntes en forma de texto, títulos, imágenes, enlaces web, y lo más importante, ejecutar código fuente de forma interactiva.\n",
        "\n",
        "Esto es posible con el uso de *kernels*, software que provee soporte a un lenguaje de programación específico. En el transcurso del curso **Introducción a la programación con _Python_** de la Universidad Nacional de Colombia se trabajará con el kernel de [IPython](https://ipython.org/) para [Python 3](https://www.python.org/) y serán ejecutados en la plataforma [*Google Colaboratory*](https://colab.research.google.com/notebooks/intro.ipynb) (o simplemente *Colab*), un entorno gratuito de *notebooks* basados en *Jupyter* que no requiere configuración y se ejecuta completamente en la nube.\n",
        "\n",
        "> **Nota**: La opción recomendada en este curso es *Google Colaboratory* y el desarrollo de este tutorial y de los materiales que encontrará en su ruta de aprendizaje se realizó tomando esta plataforma como referencia. Sin embargo, opcionalmente, si desea trabajar en local con _notebooks_ de *Jupyter* recomendamos usar [Anaconda](https://www.anaconda.com/products/individual), un entorno especializado para ciencia de datos que trae por defecto la posibilidad de trabajar con *notebooks* de *Jupyter* con *Python*. Además, para una mayor flexibilidad y personalización se pueden configurar entornos de desarrollo (como [Visual Studio Code](https://code.visualstudio.com/) o [PyCharm](https://www.jetbrains.com/pycharm/)) para el desarrollo de *notebooks* de *Jupyter* con añadidos como la compleción de código o herramientas para depurar y ejecutar sus programas.\n",
        "\n",
        "\n"
      ]
    },
    {
      "cell_type": "markdown",
      "metadata": {
        "id": "2nKBCkMYY-mJ"
      },
      "source": [
        "Los Notebooks están compuestos de **celdas**, secciones básicas en donde organizar la información en forma de texto enriquecido y código. _Google Colaboratory_ permite realizar de manera sencilla acciones como:\n",
        "* Crear celdas.\n",
        "* Editar celdas.\n",
        "* Seleccionar grupos de celdas (con la combinación `Ctrl + Clic`).\n",
        "* Copiar, cortar y pegar grupos de celdas (incluso con comandos como `Ctrl + C`, `Ctr + X` y `Ctrl + V`, entre otros).\n",
        "* Eliminar celdas o grupos de celdas (con el botón de eliminación o con la tecla `Suprimir`).\n",
        "* Mover de sitio celdas o grupos de celdas.\n",
        "\n",
        "\n",
        "<center><img src = \"https://drive.google.com/uc?export=view&id=1XqB3q92PgvobdKeORRxu6Ul87U7rSqb9\" alt = \"Animación celdas de texto y código\" width = \"80%\"/></center>"
      ]
    },
    {
      "cell_type": "markdown",
      "metadata": {
        "id": "xTwj-uWlhHN9"
      },
      "source": [
        "## **1. Celdas de Texto**\n",
        "---\n",
        "\n",
        "El primer tipo de celda es uno con el que ya ha interactuado en el transcurso de este material. Se trata de las **celdas de texto**, con las que podremos dar estructura y forma a la presentación de nuestro *notebook*.\n",
        "\n",
        "\n",
        "\n",
        "\n"
      ]
    },
    {
      "cell_type": "markdown",
      "metadata": {
        "id": "CS1mcdR_VoYN"
      },
      "source": [
        "> **Nota: En esta sección se discutirá la escritura de contenido en texto en un _Jupyter Notebook_. Antes de comenzar con esta revisión queremos aclarar que _Google Colaboratory_ permite organizar el contenido en secciones y subsecciones y navegarlos con su barra lateral.**\n",
        "\n",
        "\n",
        "<center><img src = \"https://drive.google.com/uc?export=view&id=1hSta8tgIlSTw0DD-DRPs54Ggx-2QC-IN\" alt = \"Animación secciones del notebook\" width = \"70%\"/></center>\n",
        "\n",
        "\n",
        "\n",
        "\n",
        "> **Estas secciones pueden ser colapsadas y expandidas para acceder de manera clara al contenido.**\n",
        "\n",
        "<center><img src = \"https://drive.google.com/uc?export=view&id=1LaSnotb5UBRs2Xts6HD4ub0AhpRzA5kO\" alt = \"Animación colapsar secciones\" width = \"70%\"/></center>\n",
        "\n",
        "\n",
        "> **Como verá a continuación, estas secciones pueden escribirse con el prefijo `#` en forma de títulos o encabezados.**\n",
        "\n",
        "\n"
      ]
    },
    {
      "cell_type": "markdown",
      "metadata": {
        "id": "Gd_M9svrZFde"
      },
      "source": [
        "### **1.1. *Markdown***\n",
        "***\n",
        "Las celdas de texto reconocen una sintaxis propia de un lenguaje que permite combinar texto con código de lenguajes como *HTML* o *LaTeX*. El lenguaje utilizado se llama ***Markdown***, el cual tiene ligeras diferencias entre sus versiones para *Jupyter* y *Colab*, que nace como una especificación ligera para la escritura de contenido HTML, el cual a su vez es el que permite escribir y visualizar páginas web. Si quiere conocer más acerca de este lenguaje, lo invitamos a consultar su documentación y guía de inicio de [markdown](/notebooks/markdown_guide.ipynb).\n",
        "\n",
        "A continuación, se presentan algunos ejemplos de celdas de texto comunes.\n",
        "\n",
        "> Puede dar **doble-clic** en cada celda para conocer y editar su contenido. Luego, hacer **clic** por fuera de la celda para ver su resultado. Lo invitamos a realizar este proceso con las celdas dispuestas en esta sección."
      ]
    },
    {
      "cell_type": "markdown",
      "metadata": {
        "id": "e_s-y0L4Z9j8"
      },
      "source": [
        "Haga **doble clic** aquí para ver el código fuente de esta celda. Haga lo mismo para las celdas siguientes.\n",
        "\n",
        "\n",
        "Se pueden usar separadores horizontales así:\n",
        "\n",
        "---\n",
        "\n",
        "o así:\n",
        "\n",
        "***\n",
        "\n",
        "Este es texto normal.\n",
        "\n",
        "*Se pueden usar cursivas* **y negrillas.**\n",
        "_También se puede_ con __barra al piso__\n",
        "y __*combinados*__ ***de varias*** *__maneras__*"
      ]
    },
    {
      "cell_type": "markdown",
      "metadata": {
        "id": "88t7CrFzt7gI"
      },
      "source": [
        "\n",
        "# ---\n",
        "\n",
        "(Si borra la línea anterior el título ubicado justo después será interpretado como una sección nueva del contenido del _Notebook_)\n",
        "# Esto es un título\n",
        "## Los numerales\n",
        "### indican el tamaño\n",
        "####  del título y\n",
        "#####  son usados por Google Colab\n",
        "######   para crear su tabla de contenido."
      ]
    },
    {
      "cell_type": "markdown",
      "metadata": {
        "id": "Xl0HTXkoaG10"
      },
      "source": [
        "Se puede usar texto con estilo de código en una línea: `!python --version`\n",
        "\n",
        "O como un bloque y con estilo de un lenguaje como _Python_:\n",
        "```python\n",
        "print('Hello World!')\n",
        "```\n",
        "\n",
        "\n",
        "Incluso en negrilla: **`print('Hello World!)`**\n",
        "\n",
        "> Se puede definir bloques de texto en formato de cita o anotación.\n",
        "\n",
        "Se pueden definir listas sin orden:\n",
        "*  Usando asteriscos\n",
        "-  y líneas.  \n",
        "\n",
        "También se pueden definir listas ordenadas\n",
        "1. Usando los números...\n",
        "2. que correspondan...\n",
        "3. con cada elemento.\n",
        "  1. Incluso se pueden\n",
        "  2. hacer listas anidadas\n",
        "    * Usando tanto listas ordenadas como no ordenadas, y\n",
        "    * ...usando la sangría o _indentación_ (dejar espacios o tabulaciones al inicio de la línea).\n",
        "\n",
        "También se pueden agregar enlaces a [sitios web](https://www.python.org/).\n",
        "\n",
        "Y agregar imágenes a partir de una _URL_:\n",
        "  \n",
        "![Python logo](https://www.python.org/static/community_logos/python-logo-master-v3-TM.png)\n",
        "\n"
      ]
    },
    {
      "cell_type": "markdown",
      "metadata": {
        "id": "rgJLjMVGrATY"
      },
      "source": [
        "***LaTeX***\n",
        "***\n",
        "[LaTeX](http://www.latex-project.org/) es el lenguaje más conocido para escribir expresiones especiales como fórmulas matemáticas. Para incluir fórmulas u otras expresiones matemáticas se escribe una expresión con la sintaxis del lenguaje *LaTeX* entre un par de signos  **`$`** .\n",
        "\n",
        "Por ejemplo `$\\sqrt{3x-1}+(1+x)^2$` se visualiza en línea así: $\\sqrt{3x-1}+(1+x)^2.$\n",
        "\n",
        "y centrado así:\n",
        "\n",
        "$$\\sqrt{3x-1}+(1+x)^2.$$\n"
      ]
    },
    {
      "cell_type": "markdown",
      "metadata": {
        "id": "0GTRr42MrWT1"
      },
      "source": [
        "**HTML**\n",
        "***\n",
        "Otra funcionalidad muy importante de los _Jupyter Notebook_ es su integración con el lenguaje [HTML](https://developer.mozilla.org/es/docs/Web/HTML), usado en documentos de hipertexto para páginas web. Si bien *Markdown* admite HTML, en *Colab* a veces es necesario emplear celdas de código (se verán en la siguiente sección) mediante la etiqueta **`%%html`**. En la mayoría de los casos, *Markdown* es suficiente para la disposición de la mayoría de los recursos audiovisuales, como imágenes o tablas, pero si tiene conocimientos previos en este lenguaje lo invitamos a explorar estas posibilidades."
      ]
    },
    {
      "cell_type": "code",
      "metadata": {
        "id": "kb6H3Jz9sKp9",
        "cellView": "code",
        "colab": {
          "base_uri": "https://localhost:8080/",
          "height": 362
        },
        "outputId": "9b7c5495-b83c-4831-9bf5-1c0d093de3d4"
      },
      "source": [
        "%%html\n",
        "<marquee direction = \"left\" scrollamount=\"20\" onmouseover=\"stop()\" onmouseout=\"start()\">\n",
        "    <h1 style=\"color: #ff9900; text-align: center\"> Esta es una introducción a los Jupyter Notebook con Google Colaboratory</h1>\n",
        "    <h2 style=\"color: #ff9900; text-align: center\"> Programa de formación en Machine Learning and Data Science</h2>\n",
        "    <h2 style=\"color: #ff9900; text-align: center\"> Universidad Nacional de Colombia</h2>\n",
        "    <img style = \"display: block; margin-left: auto; margin-right: auto;\" src='https://colab.research.google.com/img/colab_favicon.ico' width='200' height='200' alt=\"Logo colab\"/>\n",
        "</marquee>"
      ],
      "execution_count": null,
      "outputs": [
        {
          "output_type": "display_data",
          "data": {
            "text/html": [
              "<marquee direction = \"left\" scrollamount=\"20\" onmouseover=\"stop()\" onmouseout=\"start()\">\n",
              "    <h1 style=\"color: #ff9900; text-align: center\"> Esta es una introducción a los Jupyter Notebook con Google Colaboratory</h1>\n",
              "    <h2 style=\"color: #ff9900; text-align: center\"> Programa de formación en Machine Learning and Data Science</h2>\n",
              "    <h2 style=\"color: #ff9900; text-align: center\"> Universidad Nacional de Colombia</h2>\n",
              "    <img style = \"display: block; margin-left: auto; margin-right: auto;\" src='https://colab.research.google.com/img/colab_favicon.ico' width='200' height='200' alt=\"Logo colab\"/>\n",
              "</marquee>"
            ],
            "text/plain": [
              "<IPython.core.display.HTML object>"
            ]
          },
          "metadata": {
            "tags": []
          }
        }
      ]
    },
    {
      "cell_type": "markdown",
      "metadata": {
        "id": "YtUpWBRyiaPG"
      },
      "source": [
        "## **2. Celdas de Código**\n",
        "---\n",
        "\n",
        "El otro tipo de celda permitida en los *Notebooks* es la **celda de código**.\n",
        "\n",
        "Estas celdas permiten escribir código fuente en el lenguaje de programación que soporte el *kernel* empleado. En la esquina superior derecha se indicará que el entorno de ejecución está conectado, o en su defecto le dará la opción para conectarse (haciendo clic en **\"Conectar\"**). Este material, y el resto de los materiales presentados en los dos primeros módulos, está diseñado para ser ejecutado en el lenguaje de programación ***Python* 3.6 o superior**.\n",
        "\n",
        "Los *notebooks* ofrecen una gran flexibilidad de interacción, al permitir acciones como la carga y descarga de archivos, el uso de entrada del teclado y la presentación de contenido multimedia como texto, imágenes y videos. Usted puede ejecutar el código de una celda con el botón de *play* (al costado izquierdo de la celda en _Colab_) o mediante la combinación de teclas **Shift+Enter**.\n",
        "\n",
        "\n",
        "<img src = \"https://drive.google.com/uc?export=view&id=1dqKMzkb_zaaObVQNiZI-DUbqxsR9cv1U\" alt = \"Animación celda de código\" width = \"100%\">  </img>"
      ]
    },
    {
      "cell_type": "code",
      "metadata": {
        "id": "KkBqvJp-ZYMG",
        "colab": {
          "base_uri": "https://localhost:8080/"
        },
        "outputId": "b6f65c9f-f61b-4a80-dfff-7ae3e906939e"
      },
      "source": [
        "print(\"¡Hola Mundo!\")"
      ],
      "execution_count": null,
      "outputs": [
        {
          "output_type": "stream",
          "text": [
            "¡Hola Mundo!\n"
          ],
          "name": "stdout"
        }
      ]
    },
    {
      "cell_type": "code",
      "source": [],
      "metadata": {
        "id": "r54apZkwgZkG"
      },
      "execution_count": null,
      "outputs": []
    },
    {
      "cell_type": "markdown",
      "metadata": {
        "id": "nIZv89RNgFd2"
      },
      "source": [
        "Ejecute la siguiente celda con el botón de ejecutar o la combinación de teclado **`Shift + Enter`**. Esta devuelve la versión de _Python_ con la que se ejecuta el código escrito en este _notebook_."
      ]
    },
    {
      "cell_type": "code",
      "metadata": {
        "id": "ypn_RbnYT_a_",
        "colab": {
          "base_uri": "https://localhost:8080/"
        },
        "outputId": "1b2dd50a-4568-490c-81d5-e68c4bb06c69"
      },
      "source": [
        "!python --version"
      ],
      "execution_count": 1,
      "outputs": [
        {
          "output_type": "stream",
          "name": "stdout",
          "text": [
            "Python 3.10.6\n"
          ]
        }
      ]
    },
    {
      "cell_type": "markdown",
      "metadata": {
        "id": "8HBE0unGb0Q-"
      },
      "source": [
        "> **Nota**: este material se realizó con la versión **`3.7.10`** de _Python_."
      ]
    },
    {
      "cell_type": "markdown",
      "metadata": {
        "id": "kNmxWCnDhKzu"
      },
      "source": [
        "Se puede escribir un programa completo como el presentado a continuación. No se preocupe si no entiende lo que está escrito, simplemente ejecute la celda y siga las instrucciones. En los próximos materiales se realizarán varios talleres con el lenguaje de programación *Python*, donde entenderá los principios de programación de computadores necesarios para el desarrollo del curso."
      ]
    },
    {
      "cell_type": "code",
      "metadata": {
        "id": "KTYavQqDBEMP",
        "colab": {
          "base_uri": "https://localhost:8080/"
        },
        "outputId": "5c8dfa93-bb07-46b7-efc5-a995606a0fac"
      },
      "source": [
        "x = 1\n",
        "nombre = input('Por favor, ingrese su nombre.\\n')\n",
        "print(f'¡Hola {nombre}!\\nLe damos la bienvenida al curso de Introducción a la programación con Python.')\n",
        "\n",
        "total = 0\n",
        "conjunto = set()\n",
        "while(total < 5):\n",
        "    fruta = input(f'Ingrese el nombre de una fruta. {5 - total} restantes.\\n')\n",
        "    conjunto.add(fruta)\n",
        "\n",
        "    total = len(conjunto)\n",
        "\n",
        "    print(f'Ha ingresado {total} {\"fruta distinta\" if total == 1 else \"frutas distintas\"}.')\n",
        "\n",
        "frutas = list(conjunto)\n",
        "frutas.sort()\n",
        "print('Estas son las frutas que ingresó ordenadas alfabéticamente.')\n",
        "\n",
        "for fruta in [f'\\t{i + 1}.\\t {frutas[i]}' for i in range(len(frutas))]:\n",
        "    print(fruta)"
      ],
      "execution_count": null,
      "outputs": [
        {
          "output_type": "stream",
          "text": [
            "Por favor, ingrese su nombre.\n",
            "Edder\n",
            "¡Hola Edder!\n",
            "Le damos la bienvenida al curso de Introducción a la programación con Python.\n",
            "Ingrese el nombre de una fruta. 5 restantes.\n",
            "Pera\n",
            "Ha ingresado 1 fruta distinta.\n",
            "Ingrese el nombre de una fruta. 4 restantes.\n",
            "Manzana\n",
            "Ha ingresado 2 frutas distintas.\n",
            "Ingrese el nombre de una fruta. 3 restantes.\n",
            "Melon\n",
            "Ha ingresado 3 frutas distintas.\n",
            "Ingrese el nombre de una fruta. 2 restantes.\n",
            "Durazno\n",
            "Ha ingresado 4 frutas distintas.\n",
            "Ingrese el nombre de una fruta. 1 restantes.\n",
            "limon\n",
            "Ha ingresado 5 frutas distintas.\n",
            "Estas son las frutas que ingresó ordenadas alfabéticamente.\n",
            "\t1.\t Durazno\n",
            "\t2.\t Manzana\n",
            "\t3.\t Melon\n",
            "\t4.\t Pera\n",
            "\t5.\t limon\n"
          ],
          "name": "stdout"
        }
      ]
    },
    {
      "cell_type": "markdown",
      "metadata": {
        "id": "4r5hSQAz6d-g"
      },
      "source": [
        "## **Recursos adicionales**\n",
        "---\n",
        "En esta sección encontrará material adicional para reforzar los temas y conceptos discutidos:\n",
        "* [Google Colaboratory - Introducción a *Google Colaboratory* (notebooks)](https://colab.research.google.com/notebooks/intro.ipynb)\n",
        "* [Google Colaboratory - Guía de Markdown](https://colab.research.google.com/notebooks/markdown_guide.ipynb)\n",
        "  * [Overleaf - Learn LaTeX in 30 minutes](https://www.overleaf.com/learn/latex/Learn_LaTeX_in_30_minutes)\n",
        "  * [W3schools - HTML Introduction](https://www.w3schools.com/html/html_intro.asp)\n",
        "* [*Python* 3: documentación oficial.](https://docs.python.org/3/)"
      ]
    },
    {
      "cell_type": "markdown",
      "metadata": {
        "id": "uJLF2Soq64YL"
      },
      "source": [
        "## **Créditos**\n",
        "---\n",
        "\n",
        "* **Profesor:** [Felipe Restrepo Calle](https://dis.unal.edu.co/~ferestrepoca/)\n",
        "* **Asistentes docentes:**\n",
        "  - Alberto Nicolai Romero Martínez\n",
        "  - Miguel Angel Ortiz Marín\n",
        "  - Iván Alejandro Cruz Tole\n",
        "\n",
        "**Universidad Nacional de Colombia** - *Facultad de Ingeniería*"
      ]
    }
  ]
}